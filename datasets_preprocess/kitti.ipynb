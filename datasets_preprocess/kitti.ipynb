{
 "cells": [
  {
   "cell_type": "code",
   "execution_count": null,
   "metadata": {},
   "outputs": [],
   "source": [
    "#!/usr/bin/python\n",
    "\n",
    "from PIL import Image\n",
    "import numpy as np\n",
    "\n",
    "\n",
    "def depth_read(filename):\n",
    "    # loads depth map D from png file\n",
    "    # and returns it as a numpy array,\n",
    "    # for details see readme.txt\n",
    "\n",
    "    depth_png = np.array(Image.open(filename), dtype=int)\n",
    "    # make sure we have a proper 16bit depth map here.. not 8bit!\n",
    "    assert(np.max(depth_png) > 255)\n",
    "\n",
    "    depth = depth_png.astype(np.float) / 256.\n",
    "    depth[depth_png == 0] = -1.\n",
    "    return depth"
   ]
  },
  {
   "cell_type": "code",
   "execution_count": null,
   "metadata": {},
   "outputs": [],
   "source": [
    "import glob\n",
    "import os\n",
    "import shutil\n",
    "depth_dirs = glob.glob(\"../data/kitti/val/*/proj_depth/groundtruth/image_02\")\n",
    "for dir in depth_dirs:\n",
    "    # new depth dir\n",
    "    new_depth_dir = \"../data/kitti/depth_selection/val_selection_cropped/groundtruth_depth_gathered/\" + dir.split(\"/\")[-4]+\"_02\"\n",
    "    # print(new_depth_dir)\n",
    "    new_image_dir = \"../data/kitti/depth_selection/val_selection_cropped/image_gathered/\" + dir.split(\"/\")[-4]+\"_02\"\n",
    "    os.makedirs(new_depth_dir, exist_ok=True)\n",
    "    os.makedirs(new_image_dir, exist_ok=True)\n",
    "    for depth_file in sorted(glob.glob(dir + \"/*.png\"))[:110]: #../data/kitti/val/2011_09_26_drive_0002_sync/proj_depth/groundtruth/image_02/0000000005.png\n",
    "        new_path = new_depth_dir + \"/\" + depth_file.split(\"/\")[-1]\n",
    "        shutil.copy(depth_file, new_path)\n",
    "        # get the path of the corresponding image\n",
    "        image_file = depth_file.replace('val','raw').replace('proj_depth/groundtruth/image_02', 'image_02/data')\n",
    "        print(image_file)\n",
    "        # check if the image file exists\n",
    "        if os.path.exists(image_file):\n",
    "            new_path = new_image_dir + \"/\" + image_file.split(\"/\")[-1]\n",
    "            shutil.copy(image_file, new_path)\n",
    "        else:\n",
    "            print(\"Image file does not exist: \", image_file)"
   ]
  }
 ],
 "metadata": {
  "kernelspec": {
   "display_name": "dust3r",
   "language": "python",
   "name": "python3"
  },
  "language_info": {
   "codemirror_mode": {
    "name": "ipython",
    "version": 3
   },
   "file_extension": ".py",
   "mimetype": "text/x-python",
   "name": "python",
   "nbconvert_exporter": "python",
   "pygments_lexer": "ipython3",
   "version": "3.11.9"
  }
 },
 "nbformat": 4,
 "nbformat_minor": 2
}
